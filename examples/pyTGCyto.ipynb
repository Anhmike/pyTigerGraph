{
 "cells": [
  {
   "cell_type": "code",
   "execution_count": 1,
   "metadata": {},
   "outputs": [],
   "source": [
    "import pyTigerGraph as tg\n",
    "import pyTGCyto\n",
    "import ipycytoscape\n",
    "\n",
    "conn = tg.TigerGraphConnection(host=\"http://127.0.0.1\", restppPort=\"26900\", gsPort=\"26240\", graphname=\"MyGraph\", username=\"tigergraph\", password=\"tigergraph\", apiToken=\"el1op7a9eqrlq4ape5t452lukv991k7h\")\n",
    "cy = pyTGCyto.pyTGCyto(conn)"
   ]
  },
  {
   "cell_type": "code",
   "execution_count": 2,
   "metadata": {},
   "outputs": [],
   "source": [
    "cy.clearData()\n",
    "\n",
    "cy.getVertices('Country', 'v_id')\n",
    "cy.getVertices('Province', 'v_id')\n",
    "#cy.getVertices('City', 'v_id')\n",
    "\n",
    "cy.getEdgesByType('PROVINCE_IN_COUNTRY')\n",
    "#cy.getEdgesByType('CITY_IN_PROVINCE')"
   ]
  },
  {
   "cell_type": "code",
   "execution_count": 3,
   "metadata": {},
   "outputs": [],
   "source": [
    "cytoscapeobj = ipycytoscape.CytoscapeWidget()\n",
    "cytoscapeobj.graph.add_graph_from_json(cy.getData())"
   ]
  },
  {
   "cell_type": "code",
   "execution_count": 4,
   "metadata": {},
   "outputs": [],
   "source": [
    "cytoscapeobj.set_style([\n",
    "    {\n",
    "        'selector': 'node',\n",
    "        'css': {\n",
    "            'content': 'data(name)',\n",
    "            'text-valign': 'bottom',\n",
    "            'color': 'back',\n",
    "            'border-width': '1px',\n",
    "            'border-color': '#808080'\n",
    "        }\n",
    "    },\n",
    "    {\n",
    "        'selector': '[v_type = \"Country\"]',\n",
    "        'css': {\n",
    "            'background-color': '#C6E0B4',\n",
    "        }\n",
    "    },\n",
    "    {\n",
    "        'selector': '[v_type = \"Province\"]',\n",
    "        'css': {\n",
    "            'background-color': '#FFE699'\n",
    "        }\n",
    "    },\n",
    "    {\n",
    "        'selector': '[v_type = \"City\"]',\n",
    "        'css': {\n",
    "            'background-color': '#F8CBAD'\n",
    "        }\n",
    "    },\n",
    "    {\n",
    "        'selector': ':selected',\n",
    "        'css': {\n",
    "            'background-color': 'black',\n",
    "            'line-color': 'black',\n",
    "            'target-arrow-color': 'black',\n",
    "            'source-arrow-color': 'black',\n",
    "            'text-outline-color': 'black'\n",
    "        }\n",
    "    }\n",
    "])"
   ]
  },
  {
   "cell_type": "code",
   "execution_count": 5,
   "metadata": {},
   "outputs": [
    {
     "data": {
      "application/vnd.jupyter.widget-view+json": {
       "model_id": "de9ce06eb28c42e68571d39e431b367c",
       "version_major": 2,
       "version_minor": 0
      },
      "text/plain": [
       "CytoscapeWidget(cytoscape_layout={'name': 'cola'}, cytoscape_style=[{'selector': 'node', 'css': {'content': 'd…"
      ]
     },
     "metadata": {},
     "output_type": "display_data"
    }
   ],
   "source": [
    "cytoscapeobj"
   ]
  },
  {
   "cell_type": "code",
   "execution_count": null,
   "metadata": {},
   "outputs": [],
   "source": []
  }
 ],
 "metadata": {
  "kernelspec": {
   "display_name": "Python 3",
   "language": "python",
   "name": "python3"
  },
  "language_info": {
   "codemirror_mode": {
    "name": "ipython",
    "version": 3
   },
   "file_extension": ".py",
   "mimetype": "text/x-python",
   "name": "python",
   "nbconvert_exporter": "python",
   "pygments_lexer": "ipython3",
   "version": "3.7.6"
  }
 },
 "nbformat": 4,
 "nbformat_minor": 4
}
