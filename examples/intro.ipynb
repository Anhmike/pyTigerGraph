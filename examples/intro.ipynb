{
 "cells": [
  {
   "cell_type": "code",
   "execution_count": 1,
   "metadata": {},
   "outputs": [],
   "source": [
    "import pyTigerGraph as tg \n",
    "\n",
    "token = tg.TigerGraphConnection(host=\"https://20bd42e3162a40db9ca0a2f0a4352948.i.tgcloud.io\", graphname=\"CrunchBasePre_2013\").getToken(\"YOUR_SECRET_HERE\", \"1000000\")[0]\n",
    "\n",
    "conn = tg.TigerGraphConnection(host=\"https://20bd42e3162a40db9ca0a2f0a4352948.i.tgcloud.io\", graphname=\"CrunchBasePre_2013\", apiToken=token)"
   ]
  },
  {
   "cell_type": "code",
   "execution_count": 2,
   "metadata": {
    "tags": [
     "outputPrepend",
     "outputPrepend"
    ]
   },
   "outputs": [],
   "source": [
    "data = conn.getSchema()"
   ]
  },
  {
   "cell_type": "code",
   "execution_count": 3,
   "metadata": {},
   "outputs": [
    {
     "output_type": "execute_result",
     "data": {
      "text/plain": "'company'"
     },
     "metadata": {},
     "execution_count": 3
    }
   ],
   "source": [
    "data[\"VertexTypes\"][0][\"Name\"]"
   ]
  },
  {
   "cell_type": "code",
   "execution_count": 4,
   "metadata": {
    "tags": [
     "outputPrepend",
     "outputPrepend"
    ]
   },
   "outputs": [],
   "source": [
    "data = conn.getEdgeTypes()"
   ]
  },
  {
   "cell_type": "code",
   "execution_count": 5,
   "metadata": {},
   "outputs": [
    {
     "output_type": "execute_result",
     "data": {
      "text/plain": "['work_for_company',\n 'hasDegree',\n 'company_ipo',\n 'company_funding_rounds',\n 'financial_funds',\n 'company_office',\n 'financial_office',\n 'company_product',\n 'person_milestone',\n 'company_milestone',\n 'product_milestone',\n 'financial_milestone',\n 'investment_from_person',\n 'investment_from_company',\n 'investment_from_financialORG',\n 'work_for_fOrg',\n 'invested_by_person',\n 'invested_by_financialORG',\n 'acquire',\n 'invest']"
     },
     "metadata": {},
     "execution_count": 5
    }
   ],
   "source": [
    "data"
   ]
  },
  {
   "cell_type": "code",
   "execution_count": 8,
   "metadata": {},
   "outputs": [],
   "source": [
    "from pyTigerGraph import graphToDataFrame as tgDf\n",
    "\n",
    "dfConn = tgDf.graphToDataFrame(conn)\n",
    "\n",
    "df = dfConn.getVerticieDataframe(\"company\", limit=\"10\")"
   ]
  },
  {
   "cell_type": "code",
   "execution_count": 9,
   "metadata": {},
   "outputs": [
    {
     "output_type": "execute_result",
     "data": {
      "text/plain": "    v_id   v_type         name normalized_name             permalink  \\\n0  c:411  company                                                      \n1  c:288  company       FeVote          fevote       /company/fevote   \n2  c:270  company  Respectance     respectance  /company/respectance   \n3  c:107  company       MeeVee          meevee       /company/meevee   \n4   c:81  company       Pownce          pownce       /company/pownce   \n\n  category_code     status           founded_at            closed_at  \\\n0                           1970-01-01 00:00:00  1970-01-01 00:00:00   \n1           web  operating  2007-01-01 00:00:00  1970-01-01 00:00:00   \n2           web  operating  2006-06-01 00:00:00  1970-01-01 00:00:00   \n3   games_video   acquired  2000-07-01 00:00:00  1970-01-01 00:00:00   \n4           web   acquired  2007-06-01 00:00:00  1970-01-01 00:00:00   \n\n            domain  ...     first_funding_at      last_funding_at  \\\n0                   ...  1970-01-01 00:00:00  1970-01-01 00:00:00   \n1       fevote.com  ...  1970-01-01 00:00:00  1970-01-01 00:00:00   \n2  respectance.com  ...  2007-06-01 00:00:00  2007-07-01 00:00:00   \n3       meevee.com  ...  2005-02-01 00:00:00  2007-09-01 00:00:00   \n4       pownce.com  ...  2008-01-01 00:00:00  2008-01-01 00:00:00   \n\n  funding_rounds funding_total_usd   first_milestone_at    last_milestone_at  \\\n0              0                 0  1970-01-01 00:00:00  1970-01-01 00:00:00   \n1              0                 0  1970-01-01 00:00:00  1970-01-01 00:00:00   \n2              2           1750000  2010-07-09 00:00:00  2010-11-24 00:00:00   \n3              4          25000000  2000-01-01 00:00:00  2013-03-03 00:00:00   \n4              1                 0  2008-01-01 00:00:00  2013-08-07 00:00:00   \n\n  relationships        created_by           created_at            update_at  \n0             0                    1970-01-01 00:00:00  1970-01-01 00:00:00  \n1             1  initial-importer  2007-09-21 20:21:41  2008-08-10 13:12:45  \n2             3  initial-importer  2007-07-25 06:23:44  2013-04-24 03:28:09  \n3             7  initial-importer  2007-07-07 07:59:25  2009-04-26 05:09:47  \n4             6  initial-importer  2007-06-28 06:57:47  2013-03-16 13:14:41  \n\n[5 rows x 33 columns]",
      "text/html": "<div>\n<style scoped>\n    .dataframe tbody tr th:only-of-type {\n        vertical-align: middle;\n    }\n\n    .dataframe tbody tr th {\n        vertical-align: top;\n    }\n\n    .dataframe thead th {\n        text-align: right;\n    }\n</style>\n<table border=\"1\" class=\"dataframe\">\n  <thead>\n    <tr style=\"text-align: right;\">\n      <th></th>\n      <th>v_id</th>\n      <th>v_type</th>\n      <th>name</th>\n      <th>normalized_name</th>\n      <th>permalink</th>\n      <th>category_code</th>\n      <th>status</th>\n      <th>founded_at</th>\n      <th>closed_at</th>\n      <th>domain</th>\n      <th>...</th>\n      <th>first_funding_at</th>\n      <th>last_funding_at</th>\n      <th>funding_rounds</th>\n      <th>funding_total_usd</th>\n      <th>first_milestone_at</th>\n      <th>last_milestone_at</th>\n      <th>relationships</th>\n      <th>created_by</th>\n      <th>created_at</th>\n      <th>update_at</th>\n    </tr>\n  </thead>\n  <tbody>\n    <tr>\n      <th>0</th>\n      <td>c:411</td>\n      <td>company</td>\n      <td></td>\n      <td></td>\n      <td></td>\n      <td></td>\n      <td></td>\n      <td>1970-01-01 00:00:00</td>\n      <td>1970-01-01 00:00:00</td>\n      <td></td>\n      <td>...</td>\n      <td>1970-01-01 00:00:00</td>\n      <td>1970-01-01 00:00:00</td>\n      <td>0</td>\n      <td>0</td>\n      <td>1970-01-01 00:00:00</td>\n      <td>1970-01-01 00:00:00</td>\n      <td>0</td>\n      <td></td>\n      <td>1970-01-01 00:00:00</td>\n      <td>1970-01-01 00:00:00</td>\n    </tr>\n    <tr>\n      <th>1</th>\n      <td>c:288</td>\n      <td>company</td>\n      <td>FeVote</td>\n      <td>fevote</td>\n      <td>/company/fevote</td>\n      <td>web</td>\n      <td>operating</td>\n      <td>2007-01-01 00:00:00</td>\n      <td>1970-01-01 00:00:00</td>\n      <td>fevote.com</td>\n      <td>...</td>\n      <td>1970-01-01 00:00:00</td>\n      <td>1970-01-01 00:00:00</td>\n      <td>0</td>\n      <td>0</td>\n      <td>1970-01-01 00:00:00</td>\n      <td>1970-01-01 00:00:00</td>\n      <td>1</td>\n      <td>initial-importer</td>\n      <td>2007-09-21 20:21:41</td>\n      <td>2008-08-10 13:12:45</td>\n    </tr>\n    <tr>\n      <th>2</th>\n      <td>c:270</td>\n      <td>company</td>\n      <td>Respectance</td>\n      <td>respectance</td>\n      <td>/company/respectance</td>\n      <td>web</td>\n      <td>operating</td>\n      <td>2006-06-01 00:00:00</td>\n      <td>1970-01-01 00:00:00</td>\n      <td>respectance.com</td>\n      <td>...</td>\n      <td>2007-06-01 00:00:00</td>\n      <td>2007-07-01 00:00:00</td>\n      <td>2</td>\n      <td>1750000</td>\n      <td>2010-07-09 00:00:00</td>\n      <td>2010-11-24 00:00:00</td>\n      <td>3</td>\n      <td>initial-importer</td>\n      <td>2007-07-25 06:23:44</td>\n      <td>2013-04-24 03:28:09</td>\n    </tr>\n    <tr>\n      <th>3</th>\n      <td>c:107</td>\n      <td>company</td>\n      <td>MeeVee</td>\n      <td>meevee</td>\n      <td>/company/meevee</td>\n      <td>games_video</td>\n      <td>acquired</td>\n      <td>2000-07-01 00:00:00</td>\n      <td>1970-01-01 00:00:00</td>\n      <td>meevee.com</td>\n      <td>...</td>\n      <td>2005-02-01 00:00:00</td>\n      <td>2007-09-01 00:00:00</td>\n      <td>4</td>\n      <td>25000000</td>\n      <td>2000-01-01 00:00:00</td>\n      <td>2013-03-03 00:00:00</td>\n      <td>7</td>\n      <td>initial-importer</td>\n      <td>2007-07-07 07:59:25</td>\n      <td>2009-04-26 05:09:47</td>\n    </tr>\n    <tr>\n      <th>4</th>\n      <td>c:81</td>\n      <td>company</td>\n      <td>Pownce</td>\n      <td>pownce</td>\n      <td>/company/pownce</td>\n      <td>web</td>\n      <td>acquired</td>\n      <td>2007-06-01 00:00:00</td>\n      <td>1970-01-01 00:00:00</td>\n      <td>pownce.com</td>\n      <td>...</td>\n      <td>2008-01-01 00:00:00</td>\n      <td>2008-01-01 00:00:00</td>\n      <td>1</td>\n      <td>0</td>\n      <td>2008-01-01 00:00:00</td>\n      <td>2013-08-07 00:00:00</td>\n      <td>6</td>\n      <td>initial-importer</td>\n      <td>2007-06-28 06:57:47</td>\n      <td>2013-03-16 13:14:41</td>\n    </tr>\n  </tbody>\n</table>\n<p>5 rows × 33 columns</p>\n</div>"
     },
     "metadata": {},
     "execution_count": 9
    }
   ],
   "source": [
    "df.head()"
   ]
  },
  {
   "cell_type": "code",
   "execution_count": 10,
   "metadata": {},
   "outputs": [],
   "source": [
    "edgeDf = dfConn.getEdgesDataframe(\"company\", list(df[\"v_id\"]))"
   ]
  },
  {
   "cell_type": "code",
   "execution_count": 11,
   "metadata": {},
   "outputs": [
    {
     "output_type": "execute_result",
     "data": {
      "text/plain": "             e_type  directed from_id from_type     to_id to_type  \\\n0  work_for_company     False   c:411   company    p:1439  person   \n1  work_for_company     False   c:288   company     p:985  person   \n2    company_office     False   c:288   company       282  office   \n3  work_for_company     False   c:270   company     p:950  person   \n4  work_for_company     False   c:270   company  p:164538  person   \n\n              start_at               end_at  is_past  sequence    title  \\\n0  1970-01-01 00:00:00  1970-01-01 00:00:00      0.0       1.0  Founder   \n1  1970-01-01 00:00:00  1970-01-01 00:00:00      0.0       1.0  Founder   \n2                  NaN                  NaN      NaN       NaN      NaN   \n3  1970-01-01 00:00:00  1970-01-01 00:00:00      0.0       1.0    Board   \n4  2010-11-24 00:00:00  2013-04-22 00:00:00      1.0       1.0      CEO   \n\n            created_at           updated_at term_code  price_amout  \\\n0  2008-02-05 22:44:00  2008-02-05 22:44:00       NaN          NaN   \n1  2008-02-05 22:43:58  2008-07-09 17:17:59       NaN          NaN   \n2                  NaN                  NaN       NaN          NaN   \n3  2007-07-25 06:25:52  2013-04-24 03:29:13       NaN          NaN   \n4  2013-04-22 17:18:54  2013-04-24 03:29:13       NaN          NaN   \n\n  price_currency_code acquired_at source_url source_description  \n0                 NaN         NaN        NaN                NaN  \n1                 NaN         NaN        NaN                NaN  \n2                 NaN         NaN        NaN                NaN  \n3                 NaN         NaN        NaN                NaN  \n4                 NaN         NaN        NaN                NaN  ",
      "text/html": "<div>\n<style scoped>\n    .dataframe tbody tr th:only-of-type {\n        vertical-align: middle;\n    }\n\n    .dataframe tbody tr th {\n        vertical-align: top;\n    }\n\n    .dataframe thead th {\n        text-align: right;\n    }\n</style>\n<table border=\"1\" class=\"dataframe\">\n  <thead>\n    <tr style=\"text-align: right;\">\n      <th></th>\n      <th>e_type</th>\n      <th>directed</th>\n      <th>from_id</th>\n      <th>from_type</th>\n      <th>to_id</th>\n      <th>to_type</th>\n      <th>start_at</th>\n      <th>end_at</th>\n      <th>is_past</th>\n      <th>sequence</th>\n      <th>title</th>\n      <th>created_at</th>\n      <th>updated_at</th>\n      <th>term_code</th>\n      <th>price_amout</th>\n      <th>price_currency_code</th>\n      <th>acquired_at</th>\n      <th>source_url</th>\n      <th>source_description</th>\n    </tr>\n  </thead>\n  <tbody>\n    <tr>\n      <th>0</th>\n      <td>work_for_company</td>\n      <td>False</td>\n      <td>c:411</td>\n      <td>company</td>\n      <td>p:1439</td>\n      <td>person</td>\n      <td>1970-01-01 00:00:00</td>\n      <td>1970-01-01 00:00:00</td>\n      <td>0.0</td>\n      <td>1.0</td>\n      <td>Founder</td>\n      <td>2008-02-05 22:44:00</td>\n      <td>2008-02-05 22:44:00</td>\n      <td>NaN</td>\n      <td>NaN</td>\n      <td>NaN</td>\n      <td>NaN</td>\n      <td>NaN</td>\n      <td>NaN</td>\n    </tr>\n    <tr>\n      <th>1</th>\n      <td>work_for_company</td>\n      <td>False</td>\n      <td>c:288</td>\n      <td>company</td>\n      <td>p:985</td>\n      <td>person</td>\n      <td>1970-01-01 00:00:00</td>\n      <td>1970-01-01 00:00:00</td>\n      <td>0.0</td>\n      <td>1.0</td>\n      <td>Founder</td>\n      <td>2008-02-05 22:43:58</td>\n      <td>2008-07-09 17:17:59</td>\n      <td>NaN</td>\n      <td>NaN</td>\n      <td>NaN</td>\n      <td>NaN</td>\n      <td>NaN</td>\n      <td>NaN</td>\n    </tr>\n    <tr>\n      <th>2</th>\n      <td>company_office</td>\n      <td>False</td>\n      <td>c:288</td>\n      <td>company</td>\n      <td>282</td>\n      <td>office</td>\n      <td>NaN</td>\n      <td>NaN</td>\n      <td>NaN</td>\n      <td>NaN</td>\n      <td>NaN</td>\n      <td>NaN</td>\n      <td>NaN</td>\n      <td>NaN</td>\n      <td>NaN</td>\n      <td>NaN</td>\n      <td>NaN</td>\n      <td>NaN</td>\n      <td>NaN</td>\n    </tr>\n    <tr>\n      <th>3</th>\n      <td>work_for_company</td>\n      <td>False</td>\n      <td>c:270</td>\n      <td>company</td>\n      <td>p:950</td>\n      <td>person</td>\n      <td>1970-01-01 00:00:00</td>\n      <td>1970-01-01 00:00:00</td>\n      <td>0.0</td>\n      <td>1.0</td>\n      <td>Board</td>\n      <td>2007-07-25 06:25:52</td>\n      <td>2013-04-24 03:29:13</td>\n      <td>NaN</td>\n      <td>NaN</td>\n      <td>NaN</td>\n      <td>NaN</td>\n      <td>NaN</td>\n      <td>NaN</td>\n    </tr>\n    <tr>\n      <th>4</th>\n      <td>work_for_company</td>\n      <td>False</td>\n      <td>c:270</td>\n      <td>company</td>\n      <td>p:164538</td>\n      <td>person</td>\n      <td>2010-11-24 00:00:00</td>\n      <td>2013-04-22 00:00:00</td>\n      <td>1.0</td>\n      <td>1.0</td>\n      <td>CEO</td>\n      <td>2013-04-22 17:18:54</td>\n      <td>2013-04-24 03:29:13</td>\n      <td>NaN</td>\n      <td>NaN</td>\n      <td>NaN</td>\n      <td>NaN</td>\n      <td>NaN</td>\n      <td>NaN</td>\n    </tr>\n  </tbody>\n</table>\n</div>"
     },
     "metadata": {},
     "execution_count": 11
    }
   ],
   "source": [
    "edgeDf.head()"
   ]
  },
  {
   "cell_type": "code",
   "execution_count": null,
   "metadata": {},
   "outputs": [],
   "source": []
  }
 ],
 "metadata": {
  "language_info": {
   "codemirror_mode": {
    "name": "ipython",
    "version": 3
   },
   "file_extension": ".py",
   "mimetype": "text/x-python",
   "name": "python",
   "nbconvert_exporter": "python",
   "pygments_lexer": "ipython3",
   "version": "3.6.9-final"
  },
  "orig_nbformat": 2,
  "kernelspec": {
   "name": "python36964bit5e4270a542e54d6788076e0986af2669",
   "display_name": "Python 3.6.9 64-bit"
  }
 },
 "nbformat": 4,
 "nbformat_minor": 2
}