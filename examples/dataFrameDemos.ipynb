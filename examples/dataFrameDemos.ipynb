{
 "cells": [
  {
   "cell_type": "code",
   "execution_count": null,
   "metadata": {},
   "outputs": [],
   "source": [
    "import pyTigerGraph as tg \n",
    "\n",
    "token = tg.TigerGraphConnection(host=\"https://20bd42e3162a40db9ca0a2f0a4352948.i.tgcloud.io\", graphname=\"CrunchBasePre_2013\").getToken(\"YOUR_SECRET_HERE\", \"1000000\")[0]\n",
    "\n",
    "conn = tg.TigerGraphConnection(host=\"https://20bd42e3162a40db9ca0a2f0a4352948.i.tgcloud.io\", graphname=\"CrunchBasePre_2013\", apiToken=token)"
   ]
  },
  {
   "cell_type": "code",
   "execution_count": null,
   "metadata": {},
   "outputs": [],
   "source": [
    "from pyTigerGraph import graphToDataFrame as tgDf\n",
    "\n",
    "dfConn = tgDf.graphToDataFrame(conn)\n",
    "\n",
    "df = dfConn.getVerticieDataframe(\"company\", limit=100)"
   ]
  },
  {
   "cell_type": "code",
   "execution_count": null,
   "metadata": {},
   "outputs": [],
   "source": [
    "df.head()"
   ]
  },
  {
   "cell_type": "code",
   "execution_count": null,
   "metadata": {},
   "outputs": [],
   "source": [
    "df.shape"
   ]
  },
  {
   "cell_type": "code",
   "execution_count": null,
   "metadata": {},
   "outputs": [],
   "source": [
    "edgeDf = dfConn.getEdgesDataframe(\"company\", list(df[\"v_id\"]))"
   ]
  },
  {
   "cell_type": "code",
   "execution_count": null,
   "metadata": {},
   "outputs": [],
   "source": [
    "edgeDf.head()"
   ]
  },
  {
   "cell_type": "code",
   "execution_count": null,
   "metadata": {},
   "outputs": [],
   "source": [
    "ipoDf = dfConn.getEdgesDataframe(\"company\", list(df[\"v_id\"]), targetVertexType=\"IPO\", edgeType=\"company_ipo\")"
   ]
  },
  {
   "cell_type": "code",
   "execution_count": null,
   "metadata": {},
   "outputs": [],
   "source": [
    "ipoDf"
   ]
  },
  {
   "cell_type": "code",
   "execution_count": null,
   "metadata": {},
   "outputs": [],
   "source": [
    "import pandas as pd\n",
    "joined = pd.merge(ipoDf, df, how=\"inner\", left_on=\"from_id\", right_on=\"v_id\")"
   ]
  },
  {
   "cell_type": "code",
   "execution_count": null,
   "metadata": {},
   "outputs": [],
   "source": [
    "joined"
   ]
  },
  {
   "cell_type": "code",
   "execution_count": null,
   "metadata": {},
   "outputs": [],
   "source": []
  }
 ],
 "metadata": {
  "language_info": {
   "codemirror_mode": {
    "name": "ipython",
    "version": 3
   },
   "file_extension": ".py",
   "mimetype": "text/x-python",
   "name": "python",
   "nbconvert_exporter": "python",
   "pygments_lexer": "ipython3",
   "version": "3.6.9-final"
  },
  "orig_nbformat": 2,
  "kernelspec": {
   "name": "python36964bit5e4270a542e54d6788076e0986af2669",
   "display_name": "Python 3.6.9 64-bit"
  }
 },
 "nbformat": 4,
 "nbformat_minor": 2
}