{
 "cells": [
  {
   "cell_type": "markdown",
   "metadata": {},
   "source": [
    "## Testing a non-secure connection to a local server running in a docker"
   ]
  },
  {
   "cell_type": "markdown",
   "metadata": {},
   "source": [
    "Delete any existing downloaded client  "
   ]
  },
  {
   "cell_type": "code",
   "execution_count": 1,
   "metadata": {},
   "outputs": [],
   "source": [
    "!rm -rf ~/.gsql"
   ]
  },
  {
   "cell_type": "markdown",
   "metadata": {},
   "source": [
    "Establish a connection to the local server"
   ]
  },
  {
   "cell_type": "code",
   "execution_count": 2,
   "metadata": {
    "tags": []
   },
   "outputs": [
    {
     "name": "stdout",
     "output_type": "stream",
     "text": [
      "Downloading gsql client Jar\n"
     ]
    }
   ],
   "source": [
    "import pyTigerGraph as tg \n",
    "\n",
    "conn = tg.TigerGraphConnection(host='https://localhost', graphname=\"social\")\n",
    "\n",
    "shell = tg.Gsql(conn, certNeeded= False)"
   ]
  },
  {
   "cell_type": "markdown",
   "metadata": {},
   "source": [
    "Check that the default location for the jar client is correct"
   ]
  },
  {
   "cell_type": "code",
   "execution_count": 3,
   "metadata": {},
   "outputs": [
    {
     "data": {
      "text/plain": [
       "'/Users/ybenami/.gsql'"
      ]
     },
     "execution_count": 3,
     "metadata": {},
     "output_type": "execute_result"
    }
   ],
   "source": [
    "shell.jarLocation"
   ]
  },
  {
   "cell_type": "markdown",
   "metadata": {},
   "source": [
    "Check that the client has been downloaded properly"
   ]
  },
  {
   "cell_type": "code",
   "execution_count": 4,
   "metadata": {},
   "outputs": [
    {
     "name": "stdout",
     "output_type": "stream",
     "text": [
      "total 1312\r\n",
      "-rw-r--r--  1 ybenami  23473  671144 Jun 26 09:03 gsql_client.jar\r\n"
     ]
    }
   ],
   "source": [
    "!ls -l $shell.jarLocation"
   ]
  },
  {
   "cell_type": "markdown",
   "metadata": {},
   "source": [
    "Use `options=[]` to overide the default graph"
   ]
  },
  {
   "cell_type": "code",
   "execution_count": 6,
   "metadata": {
    "tags": []
   },
   "outputs": [
    {
     "name": "stdout",
     "output_type": "stream",
     "text": [
      "========================\n",
      "Trying version: v2_6_0\n",
      "Connecting to localhost:14240\n",
      "If there is any relative path, it is relative to tigergraph/dev/gdk/gsql\n",
      "---- Global vertices, edges, and all graphs\n",
      "Vertex Types: \n",
      "  - VERTEX person(PRIMARY_ID name STRING, name STRING, age INT, gender STRING, state STRING) WITH STATS=\"OUTDEGREE_BY_EDGETYPE\"\n",
      "Edge Types: \n",
      "  - UNDIRECTED EDGE friendship(FROM person, TO person, connect_day DATETIME)\n",
      "\n",
      "Graphs: \n",
      "  - Graph social(person:v, friendship:e)\n",
      "Jobs: \n",
      "\n",
      "\n",
      "JSON API version: v2\n",
      "Syntax version: v1\n",
      "\n",
      "\n"
     ]
    }
   ],
   "source": [
    "print(shell.gsql('ls', options=[]))"
   ]
  },
  {
   "cell_type": "markdown",
   "metadata": {},
   "source": [
    "Drop all takes about a minute to run ..."
   ]
  },
  {
   "cell_type": "code",
   "execution_count": 20,
   "metadata": {},
   "outputs": [
    {
     "name": "stdout",
     "output_type": "stream",
     "text": [
      "========================\n",
      "Trying version: v2_6_0\n",
      "Connecting to localhost:14240\n",
      "If there is any relative path, it is relative to tigergraph/dev/gdk/gsql\n",
      "Dropping all, about 1 minute ...\n",
      "Abort all active loading jobs\n",
      "Try to abort all loading jobs on graph social, it may take a while ...\n",
      "[ABORT_SUCCESS] No active Loading Job to abort.\n",
      "\n",
      "Shutdown restpp gse gpe ...\n",
      "Graph store /home/tigergraph/tigergraph/gstore/0/ has been cleared!\n",
      "Everything is dropped.\n",
      "\n"
     ]
    }
   ],
   "source": [
    "print(shell.gsql('drop all', options=[]))"
   ]
  },
  {
   "cell_type": "code",
   "execution_count": 21,
   "metadata": {},
   "outputs": [
    {
     "name": "stdout",
     "output_type": "stream",
     "text": [
      "========================\n",
      "Trying version: v2_6_0\n",
      "Connecting to localhost:14240\n",
      "If there is any relative path, it is relative to tigergraph/dev/gdk/gsql\n",
      "The vertex type person is created.\n",
      "The edge type friendship is created.\n",
      "\n",
      "Restarting gse gpe restpp ...\n",
      "\n",
      "Finish restarting services in 26.509 seconds!\n",
      "The graph social is created.\n",
      "\n"
     ]
    }
   ],
   "source": [
    "print(shell.gsql('''\n",
    "create vertex person (primary_id name string, name string, age int, \n",
    "                      gender string, state string)\n",
    "                      \n",
    "create undirected edge friendship (from person, to person, \n",
    "                                   connect_day datetime)\n",
    "\n",
    "create graph social (person, friendship)\n",
    "''', options=[]))"
   ]
  },
  {
   "cell_type": "code",
   "execution_count": 22,
   "metadata": {},
   "outputs": [
    {
     "name": "stdout",
     "output_type": "stream",
     "text": [
      "========================\n",
      "Trying version: v2_6_0\n",
      "Connecting to localhost:14240\n",
      "If there is any relative path, it is relative to tigergraph/dev/gdk/gsql\n",
      "---- Graph social\n",
      "Vertex Types: \n",
      "  - VERTEX person(PRIMARY_ID name STRING, name STRING, age INT, gender STRING, state STRING) WITH STATS=\"OUTDEGREE_BY_EDGETYPE\"\n",
      "Edge Types: \n",
      "  - UNDIRECTED EDGE friendship(FROM person, TO person, connect_day DATETIME)\n",
      "\n",
      "Graphs: \n",
      "  - Graph social(person:v, friendship:e)\n",
      "Jobs: \n",
      "Queries: \n",
      "\n",
      "\n",
      "\n",
      "\n",
      "\n"
     ]
    }
   ],
   "source": [
    "print(shell.gsql('ls'))"
   ]
  },
  {
   "cell_type": "markdown",
   "metadata": {},
   "source": [
    "## Testing a secure connection to a remote server running on TigerGraph Cloud"
   ]
  },
  {
   "cell_type": "code",
   "execution_count": 7,
   "metadata": {},
   "outputs": [
    {
     "name": "stdout",
     "output_type": "stream",
     "text": [
      "········\n"
     ]
    }
   ],
   "source": [
    "import getpass\n",
    "\n",
    "password = getpass.getpass()"
   ]
  },
  {
   "cell_type": "code",
   "execution_count": 8,
   "metadata": {},
   "outputs": [
    {
     "name": "stdout",
     "output_type": "stream",
     "text": [
      "Creating new SSL Certificate\n"
     ]
    }
   ],
   "source": [
    "import pyTigerGraph as tg \n",
    "\n",
    "conn = tg.TigerGraphConnection(host='https://yaniv.i.tgcloud.io', \n",
    "                               graphname=\"social\", password = password)\n",
    "\n",
    "shell = tg.Gsql(conn)"
   ]
  },
  {
   "cell_type": "code",
   "execution_count": 9,
   "metadata": {},
   "outputs": [
    {
     "data": {
      "text/plain": [
       "'/Users/ybenami/.gsql/my-cert.txt'"
      ]
     },
     "execution_count": 9,
     "metadata": {},
     "output_type": "execute_result"
    }
   ],
   "source": [
    "shell.certLocation"
   ]
  },
  {
   "cell_type": "code",
   "execution_count": 10,
   "metadata": {},
   "outputs": [
    {
     "name": "stdout",
     "output_type": "stream",
     "text": [
      "total 1336\r\n",
      "-rw-r--r--  1 ybenami  23473  671144 Jun 26 09:03 gsql_client.jar\r\n",
      "-rw-r--r--  1 ybenami  23473    8518 Jun 26 09:04 my-cert.txt\r\n"
     ]
    }
   ],
   "source": [
    "!ls -l $shell.jarLocation"
   ]
  },
  {
   "cell_type": "code",
   "execution_count": 12,
   "metadata": {},
   "outputs": [
    {
     "name": "stdout",
     "output_type": "stream",
     "text": [
      "========================\n",
      "Trying version: v2_6_0\n",
      "Connecting to yaniv.i.tgcloud.io:14240\n",
      "If there is any relative path, it is relative to tigergraph/dev/gdk/gsql\n",
      "---- Graph social\n",
      "Vertex Types: \n",
      "  - VERTEX person(PRIMARY_ID name STRING, name STRING, age INT, gender STRING, state STRING) WITH STATS=\"OUTDEGREE_BY_EDGETYPE\"\n",
      "Edge Types: \n",
      "  - UNDIRECTED EDGE friendship(FROM person, TO person, connect_day DATETIME)\n",
      "\n",
      "Graphs: \n",
      "  - Graph social(person:v, friendship:e)\n",
      "Jobs: \n",
      "  - CREATE LOADING JOB load_social FOR GRAPH social {\n",
      "      DEFINE FILENAME file2 = \"~/tigergraph/loadingData/friendship.csv\";\n",
      "      DEFINE FILENAME file1 = \"~/tigergraph/loadingData/person.csv\";\n",
      "      LOAD file1 TO VERTEX person VALUES($\"name\", $\"name\", $\"age\", $\"gender\", $\"state\") USING SEPARATOR=\",\", HEADER=\"true\", EOL=\"\\n\";\n",
      "      LOAD file2 TO EDGE friendship VALUES($\"person1\", $\"person2\", $\"date\") USING SEPARATOR=\",\", HEADER=\"true\", EOL=\"\\n\";\n",
      "    }\n",
      "\n",
      "Queries: \n",
      "  - sampleFriends() (installed v2)\n",
      "\n",
      "\n",
      "\n",
      "\n",
      "\n"
     ]
    }
   ],
   "source": [
    "print(shell.gsql('ls'))"
   ]
  }
 ],
 "metadata": {
  "kernelspec": {
   "display_name": "Python 3",
   "language": "python",
   "name": "python3"
  },
  "language_info": {
   "codemirror_mode": {
    "name": "ipython",
    "version": 3
   },
   "file_extension": ".py",
   "mimetype": "text/x-python",
   "name": "python",
   "nbconvert_exporter": "python",
   "pygments_lexer": "ipython3",
   "version": "3.7.7"
  },
  "toc": {
   "base_numbering": 1,
   "nav_menu": {},
   "number_sections": false,
   "sideBar": true,
   "skip_h1_title": false,
   "title_cell": "Table of Contents",
   "title_sidebar": "Contents",
   "toc_cell": false,
   "toc_position": {},
   "toc_section_display": true,
   "toc_window_display": false
  }
 },
 "nbformat": 4,
 "nbformat_minor": 2
}
