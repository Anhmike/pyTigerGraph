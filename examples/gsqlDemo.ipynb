{
 "cells": [
  {
   "cell_type": "code",
   "execution_count": 1,
   "metadata": {
    "tags": []
   },
   "outputs": [
    {
     "output_type": "stream",
     "name": "stdout",
     "text": "Downloading gsql client Jar\nCreating new SSL Certificate\n"
    }
   ],
   "source": [
    "import pyTigerGraph as tg \n",
    "from pyTigerGraph import gsql\n",
    "import os\n",
    "\n",
    "conn = tg.TigerGraphConnection(host=\"https://36536ee0667148bf9cccb0da64beef83.i.tgcloud.io\", graphname=\"demo_graph\")\n",
    "\n",
    "shell = gsql.gsql(conn, \"2.6.0\")"
   ]
  },
  {
   "cell_type": "code",
   "execution_count": 2,
   "metadata": {
    "tags": []
   },
   "outputs": [
    {
     "output_type": "stream",
     "name": "stdout",
     "text": "========================\nTrying version: v2_6_0\nConnecting to 36536ee0667148bf9cccb0da64beef83.i.tgcloud.io:14240\nIf there is any relative path, it is relative to tigergraph/dev/gdk/gsql\n---- Graph demo_graph\nVertex Types: \n  - VERTEX product(PRIMARY_ID pid STRING, name STRING, price FLOAT, formula STRING) WITH STATS=\"OUTDEGREE_BY_EDGETYPE\", PRIMARY_ID_AS_ATTRIBUTE=\"false\"\n  - VERTEX site(PRIMARY_ID sid STRING, name STRING) WITH STATS=\"OUTDEGREE_BY_EDGETYPE\", PRIMARY_ID_AS_ATTRIBUTE=\"false\"\n  - VERTEX p_order(PRIMARY_ID orderId STRING) WITH STATS=\"OUTDEGREE_BY_EDGETYPE\", PRIMARY_ID_AS_ATTRIBUTE=\"false\"\n  - VERTEX stocking(PRIMARY_ID stockingId STRING) WITH STATS=\"OUTDEGREE_BY_EDGETYPE\", PRIMARY_ID_AS_ATTRIBUTE=\"false\"\nEdge Types: \n  - DIRECTED EDGE usedBy(FROM product, TO product, formula_order STRING, useAmount FLOAT) WITH REVERSE_EDGE=\"reverseUsedBy\"\n  - DIRECTED EDGE reverseUsedBy(FROM product, TO product, formula_order STRING, useAmount FLOAT) WITH REVERSE_EDGE=\"usedBy\"\n  - DIRECTED EDGE deliver(FROM site, TO site, itemId STRING) WITH REVERSE_EDGE=\"reverseDeliver\"\n  - DIRECTED EDGE reverseDeliver(FROM site, TO site, itemId STRING) WITH REVERSE_EDGE=\"deliver\"\n  - DIRECTED EDGE produce(FROM site, TO product) WITH REVERSE_EDGE=\"reverseProduce\"\n  - DIRECTED EDGE reverseProduce(FROM product, TO site) WITH REVERSE_EDGE=\"produce\"\n  - UNDIRECTED EDGE prodOrder(FROM p_order, TO product, amount INT)\n  - UNDIRECTED EDGE prodStocking(FROM stocking, TO product, amount INT)\n\nGraphs: \n  - Graph demo_graph(product:v, site:v, p_order:v, stocking:v, usedBy:e, reverseUsedBy:e, deliver:e, reverseDeliver:e, produce:e, reverseProduce:e, prodOrder:e, prodStocking:e)\nJobs: \n  - CREATE LOADING JOB load_job_usedBy_csv_1561418162526 FOR GRAPH demo_graph {\n      DEFINE FILENAME MyDataSource;\n      LOAD MyDataSource TO EDGE usedBy VALUES($1, $0, $2, $3) USING SEPARATOR=\",\", HEADER=\"true\", EOL=\"\\n\";\n    }\n\n  - CREATE LOADING JOB load_job_product_csv_1561418227025 FOR GRAPH demo_graph {\n      DEFINE FILENAME MyDataSource;\n      LOAD MyDataSource TO VERTEX product VALUES($0, $0, $1, $2) USING SEPARATOR=\",\", HEADER=\"false\", EOL=\"\\n\";\n    }\n\n  - CREATE LOADING JOB load_job_order_csv_1561418264123 FOR GRAPH demo_graph {\n      DEFINE FILENAME MyDataSource;\n      LOAD MyDataSource TO EDGE prodOrder VALUES(gsql_concat($0,$2), $0, $1) USING SEPARATOR=\",\", HEADER=\"true\", EOL=\"\\n\";\n    }\n\n  - CREATE LOADING JOB load_job_stocking_csv_1561418318144 FOR GRAPH demo_graph {\n      DEFINE FILENAME MyDataSource;\n      LOAD MyDataSource TO EDGE prodStocking VALUES(gsql_concat($0,$2), $0, $1) USING SEPARATOR=\",\", HEADER=\"true\", EOL=\"\\n\";\n    }\n\n  - CREATE LOADING JOB load_job_produce_csv_1561418382760 FOR GRAPH demo_graph {\n      DEFINE FILENAME MyDataSource;\n      LOAD MyDataSource TO VERTEX site VALUES($0, $0) USING SEPARATOR=\",\", HEADER=\"true\", EOL=\"\\n\";\n      LOAD MyDataSource TO EDGE produce VALUES($0, $1) USING SEPARATOR=\",\", HEADER=\"true\", EOL=\"\\n\";\n    }\n\n  - CREATE LOADING JOB load_job_deliver_csv_1561418432419 FOR GRAPH demo_graph {\n      DEFINE FILENAME MyDataSource;\n      LOAD MyDataSource TO EDGE deliver VALUES($0, $1, $2) USING SEPARATOR=\",\", HEADER=\"true\", EOL=\"\\n\";\n    }\n\nQueries: \n\n\n\n\n\n"
    }
   ],
   "source": [
    "print(shell.gsql(\"ls\"))"
   ]
  },
  {
   "cell_type": "code",
   "execution_count": null,
   "metadata": {},
   "outputs": [],
   "source": []
  }
 ],
 "metadata": {
  "language_info": {
   "codemirror_mode": {
    "name": "ipython",
    "version": 3
   },
   "file_extension": ".py",
   "mimetype": "text/x-python",
   "name": "python",
   "nbconvert_exporter": "python",
   "pygments_lexer": "ipython3",
   "version": "3.6.9-final"
  },
  "orig_nbformat": 2,
  "kernelspec": {
   "name": "python36964bit5e4270a542e54d6788076e0986af2669",
   "display_name": "Python 3.6.9 64-bit"
  }
 },
 "nbformat": 4,
 "nbformat_minor": 2
}